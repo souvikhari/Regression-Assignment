{
  "nbformat": 4,
  "nbformat_minor": 0,
  "metadata": {
    "colab": {
      "provenance": []
    },
    "kernelspec": {
      "name": "python3",
      "display_name": "Python 3"
    },
    "language_info": {
      "name": "python"
    }
  },
  "cells": [
    {
      "cell_type": "markdown",
      "source": [
        "1. What is Simple Linear Regression?\n",
        "   - Simple linear regression is a statistical method used to model the relationship between one independent variable and one dependent variable using a straight line.\n",
        "   "
      ],
      "metadata": {
        "id": "Ikd7Lv94-9Dq"
      }
    },
    {
      "cell_type": "markdown",
      "source": [
        "2. What are the key assumptions of Simple Linear Regression?\n",
        "   - The key assumptions of simple linear regression are linearity, independence, homoscedasticity, and normality of residuals."
      ],
      "metadata": {
        "id": "D7DJK6se_Mng"
      }
    },
    {
      "cell_type": "markdown",
      "source": [
        "3. What does the coefficient m represent in the equation Y=mX+c?\n",
        "   - 𝑚 is the coefficient or slope of the line."
      ],
      "metadata": {
        "id": "XYpIwEi__U7w"
      }
    },
    {
      "cell_type": "markdown",
      "source": [
        "4. What does the intercept c represent in the equation Y=mX+c?\n",
        "   - c represents the value of Y when X=0."
      ],
      "metadata": {
        "id": "RHzdUxz__ks4"
      }
    },
    {
      "cell_type": "markdown",
      "source": [
        "5. How do we calculate the slope m in Simple Linear Regression?\n",
        "   - m = (n * Σxy - Σx * Σy) / (n * Σx² - (Σx)²)"
      ],
      "metadata": {
        "id": "0P3a3BQMAJ7Q"
      }
    },
    {
      "cell_type": "markdown",
      "source": [
        "6. What is the purpose of the least squares method in Simple Linear Regression?\n",
        "   - The purpose of the least squares method in simple linear regression is to find the line of best fit for a set of data points by minimizing the sum of the squared differences (residuals) between the observed data points and the predicted values on the regression line."
      ],
      "metadata": {
        "id": "vAVRI4a2ATdB"
      }
    },
    {
      "cell_type": "markdown",
      "source": [
        "7. How is the coefficient of determination (R²) interpreted in Simple Linear Regression?\n",
        "   - In simple linear regression, the coefficient of determination (R²) is interpreted as the proportion of the variance in the dependent variable that is predictable from the independent variable."
      ],
      "metadata": {
        "id": "aMJcEDrNAbG4"
      }
    },
    {
      "cell_type": "markdown",
      "source": [
        "8. What is Multiple Linear Regression?\n",
        "   - Multiple linear regression is a statistical technique used to predict the value of a dependent variable by considering the influence of two or more independent variables."
      ],
      "metadata": {
        "id": "zdX9Glk-BIMp"
      }
    },
    {
      "cell_type": "markdown",
      "source": [
        "9. What is the main difference between Simple and Multiple Linear Regression?\n",
        "   - The primary distinction between simple and multiple linear regression lies in the number of independent variables used to predict a dependent variable. Simple linear regression models the relationship between one independent variable and one dependent variable, while multiple linear regression utilizes two or more independent variables to predict a single dependent variable."
      ],
      "metadata": {
        "id": "3viP9uCXBOVw"
      }
    },
    {
      "cell_type": "markdown",
      "source": [
        "10. What are the key assumptions of Multiple Linear Regression?\n",
        "    - The key assumptions of multiple linear regression include a linear relationship between the variables, independence of errors, homoscedasticity, and normally distributed residuals."
      ],
      "metadata": {
        "id": "G1CoEpfiBYEZ"
      }
    },
    {
      "cell_type": "markdown",
      "source": [
        "11. What is heteroscedasticity, and how does it affect the results of a Multiple Linear Regression model?\n",
        "    - Heteroscedasticity in a Multiple Linear Regression model refers to a situation where the variance of the error terms (residuals) is not constant across different values of the independent variables. Effect- Biased standard errors,Invalid hypothesis tests, Confidence intervals, Model efficiency."
      ],
      "metadata": {
        "id": "W6KPWP4BBe3Y"
      }
    },
    {
      "cell_type": "markdown",
      "source": [
        "12. How can you improve a Multiple Linear Regression model with high multicollinearity?\n",
        "    - To improve a multiple linear regression model with high multicollinearity, several strategies can be employed. These include removing or combining highly correlated variables, using regularization techniques like Ridge or Lasso regression, collecting more data, or employing dimensionality reduction methods like PCA.\n",
        "     "
      ],
      "metadata": {
        "id": "N3_w7HtWB_0Z"
      }
    },
    {
      "cell_type": "markdown",
      "source": [
        "13. What are some common techniques for transforming categorical variables for use in regression models?\n",
        "    - Several techniques transform categorical variables for use in regression models. One-hot encoding is a common method, creating a binary variable for each category. Label encoding assigns numerical values to categories, and ordinal encoding preserves the order if applicable. Target encoding leverages the target variable to encode categories, while dummy coding uses a series of binary variables for each level of a categorical variable, excluding one to avoid multicollinearity."
      ],
      "metadata": {
        "id": "80ZRN3z6CPgo"
      }
    },
    {
      "cell_type": "markdown",
      "source": [
        "14. What is the role of interaction terms in Multiple Linear Regression?\n",
        "    - In multiple linear regression, interaction terms represent situations where the effect of one independent variable on the outcome depends on the value of another independent variable. They essentially capture how the relationship between two predictors might vary across different levels of a third predictor."
      ],
      "metadata": {
        "id": "a5YoXBoiCYjw"
      }
    },
    {
      "cell_type": "markdown",
      "source": [
        "15. How can the interpretation of intercept differ between Simple and Multiple Linear Regression?\n",
        "    - In both simple and multiple linear regression, the intercept represents the predicted value of the dependent variable (Y) when all independent variables (X) are equal to zero. However, the interpretation of the intercept can be more nuanced in multiple linear regression due to the presence of multiple independent variables."
      ],
      "metadata": {
        "id": "Oz0T8UpzCgDg"
      }
    },
    {
      "cell_type": "markdown",
      "source": [
        "16. What is the significance of the slope in regression analysis, and how does it affect predictions?\n",
        "    - In regression analysis, the slope represents the change in the dependent variable (Y) for each unit change in the independent variable (X), and it significantly influences the accuracy and direction of predictions."
      ],
      "metadata": {
        "id": "BOD12v11CuJ4"
      }
    },
    {
      "cell_type": "markdown",
      "source": [
        "17. How does the intercept in a regression model provide context for the relationship between variables?\n",
        "    - In regression modeling, the intercept provides the predicted value of the dependent variable when all independent variables are zero. This value serves as a baseline or starting point, offering context for understanding the relationship between variables by indicating the value of the dependent variable when no independent variables are in effect."
      ],
      "metadata": {
        "id": "UEXXFt8aC0cg"
      }
    },
    {
      "cell_type": "markdown",
      "source": [
        "18. What are the limitations of using R² as a sole measure of model performance?\n",
        "    - It doesn't indicate the model's goodness of fit, predictive accuracy, or the presence of bias."
      ],
      "metadata": {
        "id": "vv3rF4EADBnh"
      }
    },
    {
      "cell_type": "markdown",
      "source": [
        "19. How would you interpret a large standard error for a regression coefficient?\n",
        "    - A large standard error for a regression coefficient suggests that the estimated coefficient is likely to be a less precise estimate of the true population coefficient."
      ],
      "metadata": {
        "id": "ZIgmfc0yDMfw"
      }
    },
    {
      "cell_type": "markdown",
      "source": [
        "20. How can heteroscedasticity be identified in residual plots, and why is it important to address it?\n",
        "    - Heteroscedasticity, or unequal variance of errors, in residual plots is indicated by a \"fan\" or \"cone\" shape, where the spread of residuals increases or decreases with the fitted values. Addressing heteroscedasticity is crucial because it can lead to misleading statistical inferences, even if the model estimates remain unbiased.\n",
        "   "
      ],
      "metadata": {
        "id": "7VEGnrrMDdNA"
      }
    },
    {
      "cell_type": "markdown",
      "source": [
        "21. What does it mean if a Multiple Linear Regression model has a high R² but low adjusted R²?\n",
        "    - A high R² but low adjusted R² in a multiple linear regression model suggests the model might be overfitting the data. This means the model is including unnecessary predictors (independent variables) that are inflating the R² value but don't actually improve the model's predictive accuracy or generalizability."
      ],
      "metadata": {
        "id": "PD9qT0oPDoSJ"
      }
    },
    {
      "cell_type": "markdown",
      "source": [
        "22. Why is it important to scale variables in Multiple Linear Regression?\n",
        "    - Scaling variables in multiple linear regression is important because it improves model performance, particularly when using iterative optimization methods like gradient descent, and facilitates clearer interpretation of coefficients."
      ],
      "metadata": {
        "id": "O3cId5QhD5Fp"
      }
    },
    {
      "cell_type": "markdown",
      "source": [
        "23. What is polynomial regression?\n",
        "    - Polynomial regression is a type of regression analysis where the relationship between a dependent variable and one or more independent variables is modeled as an nth-degree polynomial."
      ],
      "metadata": {
        "id": "dyNna2VLEBWh"
      }
    },
    {
      "cell_type": "markdown",
      "source": [
        "24. How does polynomial regression differ from linear regression?\n",
        "    - How does polynomial regression differ from linear regressionPolynomial regression differs from linear regression in that it models the relationship between variables as a polynomial equation rather than a straight line. This allows polynomial regression to capture non-linear relationships in data that linear regression cannot. Linear regression assumes a straight line relationship, while polynomial regression can fit curves to the data."
      ],
      "metadata": {
        "id": "GKT1r-nsEGvI"
      }
    },
    {
      "cell_type": "markdown",
      "source": [
        "25. When is polynomial regression used?\n",
        "    - Polynomial regression is used when the relationship between a dependent variable and one or more independent variables is non-linear and cannot be adequately modeled by a straight line."
      ],
      "metadata": {
        "id": "3Zp6_9k_EPTi"
      }
    },
    {
      "cell_type": "markdown",
      "source": [
        "26. What is the general equation for polynomial regression?\n",
        "    - y = β₀ + β₁x + β₂x² + ... + βₙxⁿ + ε"
      ],
      "metadata": {
        "id": "Tj3x-qfHEV3h"
      }
    },
    {
      "cell_type": "markdown",
      "source": [
        "27. Can polynomial regression be applied to multiple variables?\n",
        "    - Yes, polynomial regression can be applied to multiple variables."
      ],
      "metadata": {
        "id": "w2kSEzk9ElZ5"
      }
    },
    {
      "cell_type": "markdown",
      "source": [
        "28. What are the limitations of polynomial regression?\n",
        "    - Polynomial regression, while versatile, has limitations including the risk of overfitting with high-degree polynomials, computational complexity, and the difficulty of selecting the optimal degree."
      ],
      "metadata": {
        "id": "0QEMEVeSEsXY"
      }
    },
    {
      "cell_type": "markdown",
      "source": [
        "29. What methods can be used to evaluate model fit when selecting the degree of a polynomial?\n",
        "    - Several methods can be used to evaluate model fit when selecting the degree of a polynomial, including visual inspection, cross-validation, and statistical measures like R-squared and AIC/BIC."
      ],
      "metadata": {
        "id": "dfIyl50mEx9I"
      }
    },
    {
      "cell_type": "markdown",
      "source": [
        "30. Why is visualization important in polynomial regression?\n",
        "    - Visualization is crucial in polynomial regression because it helps understand the data's underlying patterns and the model's fit."
      ],
      "metadata": {
        "id": "fND4Lst9FFOR"
      }
    },
    {
      "cell_type": "markdown",
      "source": [
        "31. How is polynomial regression implemented in Python?"
      ],
      "metadata": {
        "id": "fPCbgiQMFPQo"
      }
    },
    {
      "cell_type": "code",
      "source": [
        "import numpy as np\n",
        "import matplotlib.pyplot as plt\n",
        "from sklearn.linear_model import LinearRegression\n",
        "from sklearn.preprocessing import PolynomialFeatures\n",
        "from sklearn.metrics import mean_squared_error\n",
        "\n",
        "# 1. Generate synthetic data\n",
        "np.random.seed(0)\n",
        "X = np.linspace(0, 10, 50).reshape(-1, 1)\n",
        "y = 2 + 1.5*X + 0.5*X**2 - 0.05*X**3 + np.random.randn(50, 1) * 5\n",
        "\n",
        "# 2. Create polynomial features (degree 3 as an example)\n",
        "poly = PolynomialFeatures(degree=3)\n",
        "X_poly = poly.fit_transform(X)\n",
        "\n",
        "# 3. Fit linear regression to the polynomial features\n",
        "model = LinearRegression()\n",
        "model.fit(X_poly, y)\n",
        "\n",
        "# 4. Predict\n",
        "y_pred = model.predict(X_poly)\n",
        "\n",
        "# 5. Visualize\n",
        "plt.scatter(X, y, color='blue', label='Actual data')\n",
        "plt.plot(X, y_pred, color='red', linewidth=2, label='Polynomial fit (degree 3)')\n",
        "plt.title('Polynomial Regression Example')\n",
        "plt.xlabel('X')\n",
        "plt.ylabel('y')\n",
        "plt.legend()\n",
        "plt.show()\n"
      ],
      "metadata": {
        "colab": {
          "base_uri": "https://localhost:8080/",
          "height": 472
        },
        "id": "FRTyuukhHo8d",
        "outputId": "8c13581b-4fb8-4a8d-e1f6-507f6cb4fbf8"
      },
      "execution_count": 1,
      "outputs": [
        {
          "output_type": "display_data",
          "data": {
            "text/plain": [
              "<Figure size 640x480 with 1 Axes>"
            ],
            "image/png": "[encoded data removed]"
          },
          "metadata": {}
        }
      ]
    }
  ]
}